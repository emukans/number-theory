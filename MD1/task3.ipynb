{
 "cells": [
  {
   "cell_type": "code",
   "execution_count": 1,
   "metadata": {},
   "outputs": [
    {
     "name": "stdout",
     "output_type": "stream",
     "text": [
      "[2, 3, 7]\n",
      "[1, 2, 6]\n",
      "41\n"
     ]
    }
   ],
   "source": [
    "import pandas as pd\n",
    "import numpy as np\n",
    "import sys\n",
    "\n",
    "\n",
    "sys.setrecursionlimit(1000000)\n",
    "\n",
    "def extended_euclid_algorithm(a, b):\n",
    "    if a == 0:\n",
    "        return (b, 0, 1)\n",
    "    else:\n",
    "        g, x, y = extended_euclid_algorithm(b % a, a)\n",
    "        return (g, y - (b // a) * x, x)\n",
    "\n",
    "def chinese_remainder_theorem(m_list, a_list):\n",
    "    n_factor = np.prod(m_list)\n",
    "\n",
    "    s_list = []\n",
    " \n",
    "    for m_i in m_list:\n",
    "        s_list.append(extended_euclid_algorithm(m_i, n_factor/m_i)[2])\n",
    "    \n",
    "    x = 0\n",
    "    \n",
    "    for m_i, a_i, s_i in zip(m_list, a_list, s_list):\n",
    "        x += a_i * s_i * n_factor / m_i\n",
    "    \n",
    "    return x % n_factor\n",
    "\n",
    "\n",
    "data = pd.read_csv('ieeja.txt', header=None)\n",
    "data.columns = ['m']\n",
    "m_list = data['m'].values.tolist()\n",
    "a_list = [1,2,6]\n",
    "\n",
    "print(m_list)\n",
    "print(a_list)\n",
    "print(int(chinese_remainder_theorem(m_list, a_list)))"
   ]
  }
 ],
 "metadata": {
  "kernelspec": {
   "display_name": "Python 3",
   "language": "python",
   "name": "python3"
  },
  "language_info": {
   "codemirror_mode": {
    "name": "ipython",
    "version": 3
   },
   "file_extension": ".py",
   "mimetype": "text/x-python",
   "name": "python",
   "nbconvert_exporter": "python",
   "pygments_lexer": "ipython3",
   "version": "3.6.6"
  }
 },
 "nbformat": 4,
 "nbformat_minor": 2
}
