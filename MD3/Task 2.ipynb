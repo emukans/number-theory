{
 "cells": [
  {
   "cell_type": "code",
   "execution_count": 4,
   "metadata": {},
   "outputs": [
    {
     "name": "stdout",
     "output_type": "stream",
     "text": [
      "-1\n"
     ]
    }
   ],
   "source": [
    "def gcd(a:int, b:int) -> int: \n",
    "    \"\"\"\n",
    "    Calculates greatest common divisor of 2 numbers\n",
    "    \"\"\"\n",
    "    \n",
    "    if (a == 0): \n",
    "        return b \n",
    "    return gcd(b % a, a) \n",
    "\n",
    "def calculate_jacobi_symbol(m:int, n:int) -> int:\n",
    "    \"\"\"\n",
    "    Calculates Jacobi symbol for 2 given numbers\n",
    "    \"\"\"\n",
    "    if n < 0 or not n % 2:\n",
    "        raise ValueError(\"n should be an odd positive integer\")\n",
    "    if m < 0 or m > n:\n",
    "        m = m % n\n",
    "    if not m:\n",
    "        return int(n == 1)\n",
    "    if n == 1 or m == 1:\n",
    "        return 1\n",
    "    if gcd(m, n) != 1:\n",
    "        return 0\n",
    "\n",
    "    j = 1\n",
    "    if m < 0:\n",
    "        m = -m\n",
    "        if n % 4 == 3:\n",
    "            j = -j\n",
    "    while m != 0:\n",
    "        while m % 2 == 0 and m > 0:\n",
    "            m >>= 1\n",
    "            if n % 8 in [3, 5]:\n",
    "                j = -j\n",
    "        m, n = n, m\n",
    "        if m % 4 == 3 and n % 4 == 3:\n",
    "            j = -j\n",
    "        m %= n\n",
    "    if n != 1:\n",
    "        j = 0\n",
    "    return j\n",
    "\n",
    "print(calculate_jacobi_symbol(18044, 2019))"
   ]
  },
  {
   "cell_type": "code",
   "execution_count": null,
   "metadata": {},
   "outputs": [],
   "source": []
  }
 ],
 "metadata": {
  "kernelspec": {
   "display_name": "Python 3",
   "language": "python",
   "name": "python3"
  },
  "language_info": {
   "codemirror_mode": {
    "name": "ipython",
    "version": 3
   },
   "file_extension": ".py",
   "mimetype": "text/x-python",
   "name": "python",
   "nbconvert_exporter": "python",
   "pygments_lexer": "ipython3",
   "version": "3.6.6"
  }
 },
 "nbformat": 4,
 "nbformat_minor": 2
}
