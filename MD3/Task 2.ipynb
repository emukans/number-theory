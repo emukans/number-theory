{
 "cells": [
  {
   "cell_type": "code",
   "execution_count": 1,
   "metadata": {},
   "outputs": [
    {
     "name": "stdout",
     "output_type": "stream",
     "text": [
      "Jakobi symbol for numbers 3 and 5 is: -1\n",
      "Jakobi symbol for numbers 5 and 7 is: -1\n",
      "Jakobi symbol for numbers 7 and 11 is: -1\n",
      "Jakobi symbol for numbers 11 and 13 is: -1\n",
      "Jakobi symbol for numbers 13 and 17 is: 1\n",
      "Jakobi symbol for numbers 17 and 19 is: 1\n",
      "Jakobi symbol for numbers 19 and 2019 is: -1\n"
     ]
    }
   ],
   "source": [
    "import pandas as pd\n",
    "\n",
    "def gcd(a:int, b:int) -> int: \n",
    "    \"\"\"\n",
    "    Calculates greatest common divisor of 2 numbers\n",
    "    \"\"\"\n",
    "    \n",
    "    if (a == 0): \n",
    "        return b \n",
    "    return gcd(b % a, a) \n",
    "\n",
    "def calculate_jacobi_symbol(m:int, n:int) -> int:\n",
    "    \"\"\"\n",
    "    Calculates Jacobi symbol for 2 given numbers\n",
    "    \"\"\"\n",
    "    if n < 0 or not n % 2:\n",
    "        raise ValueError(\"n should be an odd positive integer\")\n",
    "    if m < 0 or m > n:\n",
    "        m = m % n\n",
    "    if not m:\n",
    "        return int(n == 1)\n",
    "    if n == 1 or m == 1:\n",
    "        return 1\n",
    "    if gcd(m, n) != 1:\n",
    "        return 0\n",
    "\n",
    "    j = 1\n",
    "    if m < 0:\n",
    "        m = -m\n",
    "        if n % 4 == 3:\n",
    "            j = -j\n",
    "    while m != 0:\n",
    "        while m % 2 == 0 and m > 0:\n",
    "            m >>= 1\n",
    "            if n % 8 in [3, 5]:\n",
    "                j = -j\n",
    "        m, n = n, m\n",
    "        if m % 4 == 3 and n % 4 == 3:\n",
    "            j = -j\n",
    "        m %= n\n",
    "    if n != 1:\n",
    "        j = 0\n",
    "    return j\n",
    "\n",
    "data = pd.read_csv('ieeja.txt', header=None)\n",
    "data.columns = ['m']\n",
    "prime_list = data['m'].values.tolist()\n",
    "a = None\n",
    "\n",
    "for b in prime_list:\n",
    "    if not a:\n",
    "        a = b\n",
    "        continue\n",
    "    \n",
    "    jacobi_symbol = calculate_jacobi_symbol(a, b)\n",
    "    print(\"Jakobi symbol for numbers {a} and {b} is: {jacobi_symbol}\".format(a=a, b=b, jacobi_symbol=jacobi_symbol))\n",
    "    a = b\n"
   ]
  }
 ],
 "metadata": {
  "kernelspec": {
   "display_name": "Python 3",
   "language": "python",
   "name": "python3"
  },
  "language_info": {
   "codemirror_mode": {
    "name": "ipython",
    "version": 3
   },
   "file_extension": ".py",
   "mimetype": "text/x-python",
   "name": "python",
   "nbconvert_exporter": "python",
   "pygments_lexer": "ipython3",
   "version": "3.6.6"
  }
 },
 "nbformat": 4,
 "nbformat_minor": 2
}
