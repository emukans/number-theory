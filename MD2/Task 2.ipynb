{
 "cells": [
  {
   "cell_type": "code",
   "execution_count": 27,
   "metadata": {},
   "outputs": [
    {
     "name": "stdout",
     "output_type": "stream",
     "text": [
      "Primitive roots of 3 are:\n",
      "[2]\n",
      "Primitive roots of 5 are:\n",
      "[2, 3]\n",
      "Primitive roots of 7 are:\n",
      "[3, 5]\n",
      "Primitive roots of 11 are:\n",
      "[2, 6, 7, 8]\n",
      "Primitive roots of 13 are:\n",
      "[2, 6, 7, 11]\n",
      "Primitive roots of 17 are:\n",
      "[3, 5, 6, 7, 10, 11, 12, 14]\n",
      "Primitive roots of 19 are:\n",
      "[2, 3, 10, 13, 14, 15]\n"
     ]
    }
   ],
   "source": [
    "import pandas as pd\n",
    "\n",
    "\n",
    "def gcd(a, b): \n",
    "    \"\"\"Calculates greatest common divisor of 2 numbers\"\"\"\n",
    "    \n",
    "    if (a == 0): \n",
    "        return b \n",
    "    return gcd(b % a, a) \n",
    "  \n",
    "\n",
    "def phi(n): \n",
    "    \"\"\"A simple method to evaluate Euler Totient Function\"\"\"\n",
    "    \n",
    "    result = 1\n",
    "    for i in range(2, n): \n",
    "        if (gcd(i, n) == 1): \n",
    "            result+=1\n",
    "    return result \n",
    "\n",
    "def calculate_primitive_roots(prime_number: int) -> list:\n",
    "    \"\"\"Calculate all primitive roots of a prime number\"\"\"\n",
    "    \n",
    "    num_to_check = 0\n",
    "    primitive_roots = []\n",
    "    range_to_check = range(1, prime_number)\n",
    "    primitive_roots_count = phi(prime_number - 1)\n",
    "\n",
    "    for _ in range_to_check:\n",
    "        num_to_check += 1\n",
    "        candidate_prime_roots = []\n",
    "        \n",
    "        if len(candidate_prime_roots) == primitive_roots_count:\n",
    "            break\n",
    "        \n",
    "        for i in range(1, prime_number):\n",
    "            modulus = (num_to_check ** i) % prime_number\n",
    "            if modulus not in candidate_prime_roots:\n",
    "                candidate_prime_roots.append(modulus)\n",
    "\n",
    "            if len(candidate_prime_roots) == prime_number - 1:\n",
    "                primitive_roots.append(num_to_check)\n",
    "                break\n",
    "    \n",
    "    return primitive_roots\n",
    "\n",
    "data = pd.read_csv('ieeja.txt', header=None)\n",
    "data.columns = ['p']\n",
    "prime_list = data['p'].values.tolist()\n",
    "\n",
    "for prime in prime_list:\n",
    "    primitive_roots = calculate_primitive_roots(prime)\n",
    "\n",
    "    print(\"Primitive roots of \" + str(prime) + \" are:\")\n",
    "    print(primitive_roots)\n",
    "    "
   ]
  },
  {
   "cell_type": "code",
   "execution_count": null,
   "metadata": {},
   "outputs": [],
   "source": []
  }
 ],
 "metadata": {
  "kernelspec": {
   "display_name": "Python 3",
   "language": "python",
   "name": "python3"
  },
  "language_info": {
   "codemirror_mode": {
    "name": "ipython",
    "version": 3
   },
   "file_extension": ".py",
   "mimetype": "text/x-python",
   "name": "python",
   "nbconvert_exporter": "python",
   "pygments_lexer": "ipython3",
   "version": "3.6.6"
  }
 },
 "nbformat": 4,
 "nbformat_minor": 2
}
